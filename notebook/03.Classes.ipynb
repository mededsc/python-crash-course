{
 "cells": [
  {
   "cell_type": "markdown",
   "metadata": {},
   "source": [
    "## Python classes\n",
    "\n",
    "Python provides tools for the object-oriented paradigm.\n",
    "\n",
    "### Classes and objects"
   ]
  },
  {
   "cell_type": "code",
   "execution_count": null,
   "metadata": {
    "collapsed": false
   },
   "outputs": [],
   "source": [
    "# class definition:\n",
    "# * class keyword\n",
    "# * class name\n",
    "# * inherits (parent, [parent, …])\n",
    "\n",
    "class TestClass(object):\n",
    "    \n",
    "    # constructor, destructor\n",
    "    def __init__(self, *argv):\n",
    "        # * __init__() may not return anything else, than None\n",
    "        # * a raised exception means object creation failure\n",
    "        # * resources, allocated so far, will **not** be freed\n",
    "        self.argv = argv\n",
    "    \n",
    "    def __del__(self):\n",
    "        # * __del__() may not take parameters other than self\n",
    "        # * __del__() is called by GC\n",
    "        # * __del__() may not raise exceptions\n",
    "        pass\n",
    "\n",
    "a = TestClass()\n",
    "print(type(a))"
   ]
  },
  {
   "cell_type": "markdown",
   "metadata": {},
   "source": [
    "### Privacy\n",
    "\n",
    "There are no *true* private members in Python, only some name mangling."
   ]
  },
  {
   "cell_type": "code",
   "execution_count": null,
   "metadata": {
    "collapsed": false
   },
   "outputs": [],
   "source": [
    "class TestClass(object):\n",
    "    \n",
    "    def __init__(self):\n",
    "        self.__public()\n",
    "    \n",
    "    def public(self):\n",
    "        print(\"public method of %s\" % type(self))\n",
    "    \n",
    "    __public = public\n",
    "\n",
    "    \n",
    "class TestChild(TestClass):\n",
    "    \n",
    "    def public(self):\n",
    "        print(\"Hello, world!\")\n",
    "\n",
    "\n",
    "print(\"\\nWork with TestClass «a»\")\n",
    "a = TestClass()\n",
    "a.public()\n",
    "\n",
    "print(\"\\nWork with TestChild «b»\")\n",
    "b = TestChild()\n",
    "b.public()"
   ]
  },
  {
   "cell_type": "markdown",
   "metadata": {},
   "source": [
    "The reason behind such scheme is to avoid API collisions in some way — but it has nothing to do with privacy, security or data protection.\n",
    "\n",
    "### Protocols\n",
    "\n",
    "Classes may follow so-called «protocols» — well-known APIs, that allow object to behave in some way.\n",
    "\n",
    "Magic methods:\n",
    "* `__call__()` — object may act as a function\n",
    "* `__setitem__()`, `__getitem__()`, `__delitem__()` — object may act as a dictionary\n",
    "* `__enter__()`, `__exit__()` — object may act as a context manager\n",
    "* … more in docs\n",
    "\n",
    "Example:"
   ]
  },
  {
   "cell_type": "code",
   "execution_count": null,
   "metadata": {
    "collapsed": false
   },
   "outputs": [],
   "source": [
    "class TestClass(dict):\n",
    "    \n",
    "    def __init__(self, *argv, **kwarg):\n",
    "        # super() is one of two ways to call parent's method:\n",
    "        # \n",
    "        # super(ClassName, self).method(…)\n",
    "        # ParentName.method(self, …)\n",
    "        #\n",
    "        # the latter is a bit simpler to remember.\n",
    "        # the former work correctly in the case of multiple inheritance\n",
    "        super(TestClass, self).__init__(*argv, **kwarg)\n",
    "        \n",
    "    def __call__(self):\n",
    "        return self\n",
    "    \n",
    "    def add(self, key, value):\n",
    "        self[key] = value\n",
    "        return self\n",
    "    \n",
    "    def get(self, key):\n",
    "        return self[key]\n",
    "    \n",
    "    def drop(self, key):\n",
    "        del self[key]\n",
    "        return self\n",
    "\n",
    "a = {}\n",
    "a[\"a\"] = 2\n",
    "a[\"b\"] = 3\n",
    "print(a)\n",
    "\n",
    "print(TestClass(a).add(\"c\", 4).add(\"d\", 5))"
   ]
  },
  {
   "cell_type": "markdown",
   "metadata": {},
   "source": [
    "### Multiple inheritance\n",
    "\n",
    "Multiple inheritance is useful e.g. to create and use mixin classes, that deliver common API to different base classes:"
   ]
  },
  {
   "cell_type": "code",
   "execution_count": null,
   "metadata": {
    "collapsed": false
   },
   "outputs": [],
   "source": [
    "class MixinClass(object):\n",
    "    \n",
    "    def test(self):\n",
    "        print(\"object type: %s\" % type(self))\n",
    "        print(\"object MRO: %s\" % self.__class__.mro())\n",
    "        return self\n",
    "\n",
    "\n",
    "class BaseDict(dict, MixinClass):\n",
    "    pass\n",
    "\n",
    "\n",
    "class BaseList(MixinClass, list):\n",
    "    pass\n",
    "\n",
    "a = BaseDict()\n",
    "a.test()\n",
    "\n",
    "b = BaseList()\n",
    "b.test()"
   ]
  },
  {
   "cell_type": "markdown",
   "metadata": {},
   "source": [
    "Everything is an object in Python. And classes also are objects. So… classes can be produced in the runtime. There are several ways of producing classes. All of them are beyound the scope of this course.\n",
    "\n",
    "    Would you like to know more?\n",
    "\n",
    "### Static and class methods"
   ]
  },
  {
   "cell_type": "code",
   "execution_count": null,
   "metadata": {
    "collapsed": false
   },
   "outputs": [],
   "source": [
    "class TestClass(object):\n",
    "    \n",
    "    static_list = []\n",
    "    \n",
    "    @staticmethod\n",
    "    def static_method():\n",
    "        print(\"Static method\")\n",
    "    \n",
    "    @classmethod\n",
    "    def class_method(cls):\n",
    "        print(\"Class method (%s)\" % type(cls))\n",
    "    \n",
    "    def object_method(self):\n",
    "        print(\"Object method (%s)\" % type(self))\n",
    "\n",
    "\n",
    "a = TestClass()\n",
    "a.static_list.append(2)\n",
    "a.static_method()\n",
    "a.class_method()\n",
    "a.object_method()\n",
    "\n",
    "print(\"\\nAccess the static list from another object instance:\")\n",
    "b = TestClass()\n",
    "print(b.static_list)"
   ]
  }
 ],
 "metadata": {
  "kernelspec": {
   "display_name": "Python 2",
   "language": "python",
   "name": "python2"
  },
  "language_info": {
   "codemirror_mode": {
    "name": "ipython",
    "version": 2
   },
   "file_extension": ".py",
   "mimetype": "text/x-python",
   "name": "python",
   "nbconvert_exporter": "python",
   "pygments_lexer": "ipython2",
   "version": "2.7.11"
  }
 },
 "nbformat": 4,
 "nbformat_minor": 0
}
