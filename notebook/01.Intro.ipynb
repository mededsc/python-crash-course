{
 "cells": [
  {
   "cell_type": "markdown",
   "metadata": {
    "collapsed": true
   },
   "source": [
    "# Python intro\n",
    "\n",
    "Features:\n",
    "    * Interpreted language\n",
    "    * Dynamic typing\n",
    "    * «Batteries included»\n",
    "    * Supported paradigms: imperative, object-oriented, functional\n",
    "    * Portable VM\n",
    "    * Powerful runtime introspection\n",
    "\n",
    "The project launched:\n",
    "\n",
    "    Your code\n",
    "        |\n",
    "        v\n",
    "    Python implementation ---> [bytecode] ---> Python VM ---> [machine instructions] ---> OS\n",
    "    (CPython, JPython, …)\n",
    "        ^\n",
    "        |\n",
    "    Libraries\n",
    "    (stdlib, ffi)\n",
    "\n",
    "## hello, world"
   ]
  },
  {
   "cell_type": "code",
   "execution_count": null,
   "metadata": {
    "collapsed": false
   },
   "outputs": [],
   "source": [
    "print(\"hello, world\")"
   ]
  },
  {
   "cell_type": "markdown",
   "metadata": {},
   "source": [
    "## data types\n",
    "\n",
    "Python has almost all the basic types as other high-level languages: `int`, `float`, `str`, `bool`, `None`, `list`, `dict`, …\n",
    "     * strings vs. quotes — \", '\n",
    "     * strings as lists\n"
   ]
  },
  {
   "cell_type": "code",
   "execution_count": null,
   "metadata": {
    "collapsed": false
   },
   "outputs": [],
   "source": [
    "s = \"hello, world\"\n",
    "print(s[0])"
   ]
  },
  {
   "cell_type": "markdown",
   "metadata": {},
   "source": [
    "## dynamic variables\n",
    "    * dynamic typing\n",
    "    * implicit declaration"
   ]
  },
  {
   "cell_type": "code",
   "execution_count": null,
   "metadata": {
    "collapsed": false
   },
   "outputs": [],
   "source": [
    "s = \"hello, world\"\n",
    "i = 5\n",
    "print(s[0] * i)\n",
    "i = \"goodbye, cruel world\"\n",
    "print(i)"
   ]
  },
  {
   "cell_type": "markdown",
   "metadata": {},
   "source": [
    "## main complex types\n",
    "    * list\n",
    "    * tuple\n",
    "    * set\n",
    "    * dict"
   ]
  },
  {
   "cell_type": "code",
   "execution_count": null,
   "metadata": {
    "collapsed": false
   },
   "outputs": [],
   "source": [
    "l = [2,3,3,5,6]\n",
    "t = (2,3,3,5,6)\n",
    "s = set((2,3,3,5,6))\n",
    "d = {2: \"a\",\n",
    "     3: \"b\",\n",
    "     4: \"c\",\n",
    "     5: \"d\"}\n",
    "\n",
    "for v in (l, t, s, d):\n",
    "    print(\"%s:\\t%s\" % (type(v), v))  # notice, how the set is printed out"
   ]
  },
  {
   "cell_type": "markdown",
   "metadata": {},
   "source": [
    "## introspection\n",
    "    * type()\n",
    "    * dir()\n",
    "    * help()\n",
    "    * isinstance()\n",
    "    * anything is object\n",
    "    * even a class is an object"
   ]
  },
  {
   "cell_type": "code",
   "execution_count": null,
   "metadata": {
    "collapsed": false
   },
   "outputs": [],
   "source": [
    "l = [2,3,4,5]\n",
    "t = (6,7,8,9)\n",
    "d = {2: \"a\",\n",
    "     3: \"b\",\n",
    "     4: \"c\",\n",
    "     5: \"d\"}\n",
    "\n",
    "for v in (l, t, d):\n",
    "    if isinstance(v, list):\n",
    "        break\n",
    "print(v[2])"
   ]
  },
  {
   "cell_type": "code",
   "execution_count": null,
   "metadata": {
    "collapsed": false
   },
   "outputs": [],
   "source": [
    "l = [2,3,4,5]\n",
    "t = (6,7,8,9)\n",
    "d = {2: \"a\",\n",
    "     3: \"b\",\n",
    "     4: \"c\",\n",
    "     5: \"d\"}\n",
    "\n",
    "for v in (l, t, d):\n",
    "    if isinstance(v, set):\n",
    "        print(\"found a set\")\n",
    "        break\n",
    "else:\n",
    "    print(\"set type not detected\")"
   ]
  },
  {
   "cell_type": "markdown",
   "metadata": {},
   "source": [
    "## why introspection?\n",
    "\n",
    "Python introspection tools allows to work easily with the code you never saw before.\n",
    "\n",
    "## more introspection tools\n",
    "    * hasattr()\n",
    "    * getattr()\n",
    "    * setattr()\n",
    "    * byteplay (not in stdlib)"
   ]
  },
  {
   "cell_type": "code",
   "execution_count": null,
   "metadata": {
    "collapsed": false
   },
   "outputs": [],
   "source": [
    "# import some module\n",
    "import byteplay\n",
    "\n",
    "# lookup the module file\n",
    "if hasattr(byteplay, '__file__'):\n",
    "    byteplay.__file__\n",
    "\n",
    "# define a function\n",
    "def f(a, b):\n",
    "    for x in range(b):\n",
    "        a = a * b\n",
    "    return a\n",
    "\n",
    "# everything is an object\n",
    "if hasattr(f, '__code__'):\n",
    "    code = getattr(f, '__code__')\n",
    "    print(code)\n",
    "\n",
    "# getattr with a fallback\n",
    "code = getattr(f, '__code__', None)\n",
    "print(code)\n",
    "\n",
    "# disassemble the code\n",
    "vc = byteplay.Code.from_code(code)\n",
    "vc.code"
   ]
  },
  {
   "cell_type": "markdown",
   "metadata": {},
   "source": [
    "## exceptions\n",
    "    * exception as a type\n",
    "    * exception as an object\n",
    "    * how to catch\n",
    "    * how to raise"
   ]
  },
  {
   "cell_type": "code",
   "execution_count": null,
   "metadata": {
    "collapsed": false
   },
   "outputs": [],
   "source": [
    "fname = \"/etc/hosts\"\n",
    "try:\n",
    "    f = open(fname, \"r\")\n",
    "    print(f.read())\n",
    "except Exception as e:\n",
    "    print(e)"
   ]
  },
  {
   "cell_type": "markdown",
   "metadata": {},
   "source": [
    "## context management\n",
    "    * context managers\n",
    "    * cm and exceptions"
   ]
  },
  {
   "cell_type": "code",
   "execution_count": null,
   "metadata": {
    "collapsed": false
   },
   "outputs": [],
   "source": [
    "fname = \"/etc/hosts\"\n",
    "with open(fname, \"r\") as f:\n",
    "    print(f.read())"
   ]
  },
  {
   "cell_type": "markdown",
   "metadata": {},
   "source": [
    "## python modules\n",
    "    * sys.path and $PYTHONPATH\n",
    "    * module/__init__.py\n",
    "    * which symbols are exported\n",
    "    * __all__\n",
    "    * how to import\n",
    "    * import aliases"
   ]
  },
  {
   "cell_type": "code",
   "execution_count": null,
   "metadata": {
    "collapsed": false
   },
   "outputs": [],
   "source": [
    "from os import *\n",
    "\n",
    "print(stat(\"/etc/hosts\"))"
   ]
  },
  {
   "cell_type": "code",
   "execution_count": null,
   "metadata": {
    "collapsed": false
   },
   "outputs": [],
   "source": [
    "from os import stat\n",
    "\n",
    "print(stat(\"/etc/hosts\"))"
   ]
  },
  {
   "cell_type": "code",
   "execution_count": null,
   "metadata": {
    "collapsed": false
   },
   "outputs": [],
   "source": [
    "import os\n",
    "\n",
    "print(os.stat(\"/etc/hosts\"))"
   ]
  },
  {
   "cell_type": "code",
   "execution_count": null,
   "metadata": {
    "collapsed": false
   },
   "outputs": [],
   "source": [
    "import os as posix\n",
    "\n",
    "print(posix.stat(\"/etc/hosts\"))"
   ]
  },
  {
   "cell_type": "markdown",
   "metadata": {},
   "source": [
    "## symbols and scopes\n",
    "    * globals()\n",
    "    * locals()"
   ]
  },
  {
   "cell_type": "code",
   "execution_count": null,
   "metadata": {
    "collapsed": false
   },
   "outputs": [],
   "source": [
    "print(type(globals()))\n",
    "print(\"\\nGlobal symbols:\\n\")\n",
    "print(globals().keys())"
   ]
  },
  {
   "cell_type": "markdown",
   "metadata": {},
   "source": [
    "## python versions\n",
    "    * Python2 vs. Python3\n",
    "        * print statements\n",
    "        * integer division\n",
    "        * unicode strings\n",
    "        * range\n",
    "        * exception syntax\n",
    "        * list comprehension variables side-effect"
   ]
  }
 ],
 "metadata": {
  "kernelspec": {
   "display_name": "Python 2",
   "language": "python",
   "name": "python2"
  },
  "language_info": {
   "codemirror_mode": {
    "name": "ipython",
    "version": 2
   },
   "file_extension": ".py",
   "mimetype": "text/x-python",
   "name": "python",
   "nbconvert_exporter": "python",
   "pygments_lexer": "ipython2",
   "version": "2.7.10"
  }
 },
 "nbformat": 4,
 "nbformat_minor": 0
}
