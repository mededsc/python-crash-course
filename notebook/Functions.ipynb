{
 "cells": [
  {
   "cell_type": "markdown",
   "metadata": {},
   "source": [
    "# Python functions\n",
    "\n",
    "Simple function definition looks like that:"
   ]
  },
  {
   "cell_type": "code",
   "execution_count": null,
   "metadata": {
    "collapsed": false
   },
   "outputs": [],
   "source": [
    "def func(a, b):\n",
    "    return a + b\n",
    "\n",
    "print(func(2, 3))"
   ]
  },
  {
   "cell_type": "markdown",
   "metadata": {},
   "source": [
    "Most important function features in Python:\n",
    "    * Are polymorphic\n",
    "    * Can return complex data types\n",
    "    * Can not be overloaded\n",
    "    * But can have generic signatures\n",
    "    * Can become generators\n",
    "    * … (more below)"
   ]
  },
  {
   "cell_type": "code",
   "execution_count": null,
   "metadata": {
    "collapsed": false
   },
   "outputs": [],
   "source": [
    "def func(a, b, c, d):\n",
    "    return a + b, c + d\n",
    "\n",
    "print(func(2, 3, 4, 5))"
   ]
  },
  {
   "cell_type": "code",
   "execution_count": null,
   "metadata": {
    "collapsed": false
   },
   "outputs": [],
   "source": [
    "def func(*argv, **kwarg):\n",
    "    print(\"func argv: %s\" % str(argv))\n",
    "    print(\"func kwarg: %s\" % str(kwarg))\n",
    "    \n",
    "func(2, 3, a=4, b=5)"
   ]
  },
  {
   "cell_type": "code",
   "execution_count": null,
   "metadata": {
    "collapsed": false
   },
   "outputs": [],
   "source": [
    "def func(*argv):\n",
    "    return argv[0] + argv[1], argv[2] + argv[3]\n",
    "\n",
    "print(func(2, 3, 4 ,5))"
   ]
  },
  {
   "cell_type": "code",
   "execution_count": null,
   "metadata": {
    "collapsed": false
   },
   "outputs": [],
   "source": [
    "def func(*argv):\n",
    "    return sum(argv[:2]), sum(argv[2:])\n",
    "\n",
    "print(func(2, 3, 4, 5))"
   ]
  },
  {
   "cell_type": "code",
   "execution_count": null,
   "metadata": {
    "collapsed": false
   },
   "outputs": [],
   "source": [
    "from operator import add\n",
    "\n",
    "def func(*argv):\n",
    "    return add(*argv[:2]), add(*argv[2:])\n",
    "\n",
    "print(func(2, 3, 4, 5))"
   ]
  },
  {
   "cell_type": "markdown",
   "metadata": {},
   "source": [
    "Function parameters can have default values. Pls keep in mind that the default values are calculated at the function definion time. That may mean some unexpected consequences."
   ]
  },
  {
   "cell_type": "code",
   "execution_count": null,
   "metadata": {
    "collapsed": false
   },
   "outputs": [],
   "source": [
    "def func(a=2):\n",
    "    print(a * a)\n",
    "\n",
    "func(3)\n",
    "func()"
   ]
  },
  {
   "cell_type": "code",
   "execution_count": null,
   "metadata": {
    "collapsed": false
   },
   "outputs": [],
   "source": [
    "A = 2\n",
    "\n",
    "def func(a=A):\n",
    "    print(a * a)\n",
    "\n",
    "func(3)\n",
    "func()"
   ]
  },
  {
   "cell_type": "code",
   "execution_count": null,
   "metadata": {
    "collapsed": false
   },
   "outputs": [],
   "source": [
    "def func(a=[], b=2):\n",
    "    a.append(b)\n",
    "    return a\n",
    "\n",
    "print(func([2, 3], 4))"
   ]
  },
  {
   "cell_type": "code",
   "execution_count": null,
   "metadata": {
    "collapsed": false
   },
   "outputs": [],
   "source": [
    "def func(a=[], b=2):\n",
    "    a.append(b)\n",
    "    return a\n",
    "\n",
    "print(func(b=5))\n",
    "print(func(b=6))"
   ]
  },
  {
   "cell_type": "markdown",
   "metadata": {},
   "source": [
    "Generators: lazy evaluation"
   ]
  },
  {
   "cell_type": "code",
   "execution_count": null,
   "metadata": {
    "collapsed": false
   },
   "outputs": [],
   "source": [
    "def func(limit):\n",
    "    r = 0\n",
    "    ret = []\n",
    "    \n",
    "    while r < limit:\n",
    "        print(\"inside: %i\" % r)\n",
    "        ret.append(r)\n",
    "        r += 1\n",
    "    \n",
    "    return ret\n",
    "\n",
    "for i in func(20):\n",
    "    print(\"\\toutside: %i\" % i)"
   ]
  },
  {
   "cell_type": "code",
   "execution_count": null,
   "metadata": {
    "collapsed": false
   },
   "outputs": [],
   "source": [
    "def func(limit):\n",
    "    r = 0\n",
    "    \n",
    "    while r < limit:\n",
    "        print(\"inside: %i\" % r)\n",
    "        yield r\n",
    "        r += 1\n",
    "\n",
    "for i in func(20):\n",
    "    print(\"\\toutside: %i\" % i)"
   ]
  },
  {
   "cell_type": "markdown",
   "metadata": {},
   "source": [
    "Beside of that, **any** object with `.__call__(…)` method can act as a function. But we'll return to it in the «Classes» chapter.\n",
    "\n",
    "About **lambda** functions — in the «Functional» chapter."
   ]
  }
 ],
 "metadata": {
  "kernelspec": {
   "display_name": "Python 2",
   "language": "python",
   "name": "python2"
  },
  "language_info": {
   "codemirror_mode": {
    "name": "ipython",
    "version": 2
   },
   "file_extension": ".py",
   "mimetype": "text/x-python",
   "name": "python",
   "nbconvert_exporter": "python",
   "pygments_lexer": "ipython2",
   "version": "2.7.11"
  }
 },
 "nbformat": 4,
 "nbformat_minor": 0
}
