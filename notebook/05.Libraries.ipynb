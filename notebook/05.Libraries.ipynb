{
 "cells": [
  {
   "cell_type": "markdown",
   "metadata": {},
   "source": [
    "# Python libraries\n",
    "\n",
    "## FFI"
   ]
  },
  {
   "cell_type": "code",
   "execution_count": null,
   "metadata": {
    "collapsed": false
   },
   "outputs": [],
   "source": [
    "from ctypes import CDLL\n",
    "from sys import stdout\n",
    "from os import O_CREAT, O_RDWR\n",
    "\n",
    "test = \"test\\n\"\n",
    "libc = CDLL(\"/lib64/libc.so.6\")\n",
    "fd = libc.open(\"/tmp/test\", O_CREAT | O_RDWR, 0664)\n",
    "if fd == -1:\n",
    "    raise Exception(\"open error\")\n",
    "if libc.write(fd, test, len(test)) == -1:\n",
    "    raise Exception(\"write error\")\n",
    "if libc.close(fd) == -1:\n",
    "    raise Exception(\"close error\")\n",
    "\n",
    "with open(\"/tmp/test\", \"r\") as f:\n",
    "    print(f.read())\n"
   ]
  },
  {
   "cell_type": "markdown",
   "metadata": {},
   "source": [
    "## struct"
   ]
  },
  {
   "cell_type": "code",
   "execution_count": null,
   "metadata": {
    "collapsed": false
   },
   "outputs": [],
   "source": [
    "import struct\n",
    "\n",
    "a = '\\x01\\x00\\x00\\x00\\x02\\x03\\x04\\x00\\x05\\x00'\n",
    "print(struct.unpack(\"IBBHH\", a))"
   ]
  },
  {
   "cell_type": "markdown",
   "metadata": {},
   "source": [
    "## threading"
   ]
  },
  {
   "cell_type": "code",
   "execution_count": null,
   "metadata": {
    "collapsed": false
   },
   "outputs": [],
   "source": [
    "import threading\n",
    "\n",
    "def thread_job(lock):\n",
    "    with lock:\n",
    "        for x in range(5):\n",
    "            print(x)\n",
    "\n",
    "l = threading.Lock()\n",
    "t = threading.Thread(target=thread_job, args=(l, ))\n",
    "l.acquire()\n",
    "t.start()\n",
    "print(threading.enumerate())\n",
    "l.release()\n",
    "t.join()"
   ]
  },
  {
   "cell_type": "markdown",
   "metadata": {
    "collapsed": true
   },
   "source": [
    "## os"
   ]
  },
  {
   "cell_type": "code",
   "execution_count": null,
   "metadata": {
    "collapsed": false
   },
   "outputs": [],
   "source": [
    "import os\n",
    "\n",
    "os.stat(\"/tmp/test\")"
   ]
  },
  {
   "cell_type": "markdown",
   "metadata": {},
   "source": [
    "## … tons of other libraries"
   ]
  }
 ],
 "metadata": {
  "kernelspec": {
   "display_name": "Python 2",
   "language": "python",
   "name": "python2"
  },
  "language_info": {
   "codemirror_mode": {
    "name": "ipython",
    "version": 2
   },
   "file_extension": ".py",
   "mimetype": "text/x-python",
   "name": "python",
   "nbconvert_exporter": "python",
   "pygments_lexer": "ipython2",
   "version": "2.7.11"
  }
 },
 "nbformat": 4,
 "nbformat_minor": 0
}
