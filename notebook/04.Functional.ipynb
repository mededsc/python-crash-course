{
 "cells": [
  {
   "cell_type": "markdown",
   "metadata": {},
   "source": [
    "# Functional Python\n",
    "\n",
    "So far we worked with imperative and object-oriented Python. Now it's time to work with the functional approach.\n",
    "\n",
    "    * map()\n",
    "    * filter()\n",
    "    * reduce()\n",
    "    * zip()\n",
    "    * lambda\n",
    "\n",
    "Functional-related modules:\n",
    "\n",
    "    * itertools\n",
    "    * functools\n",
    "    * operator\n",
    "\n",
    "Builtin functional syntax:\n",
    "\n",
    "    * list comprehensions\n",
    "    * generators"
   ]
  },
  {
   "cell_type": "code",
   "execution_count": null,
   "metadata": {
    "collapsed": false
   },
   "outputs": [],
   "source": [
    "map(None, [2, 3, 4, 5])"
   ]
  },
  {
   "cell_type": "code",
   "execution_count": null,
   "metadata": {
    "collapsed": false
   },
   "outputs": [],
   "source": [
    "map(lambda x: x * x, [2, 3, 4, 5])"
   ]
  },
  {
   "cell_type": "code",
   "execution_count": null,
   "metadata": {
    "collapsed": false
   },
   "outputs": [],
   "source": [
    "a = [2, 3, 4, 5]\n",
    "dict(zip(a, map(lambda x: x * x, a)))"
   ]
  },
  {
   "cell_type": "markdown",
   "metadata": {},
   "source": [
    "## map / reduce\n",
    "\n",
    "Task:\n",
    "1. take a list\n",
    "2. produce list of squares\n",
    "3. combine two lists (produce all possible combinations)\n",
    "4. multiply pairs\n",
    "5. take only odd products\n",
    "\n",
    "### imperative approach"
   ]
  },
  {
   "cell_type": "code",
   "execution_count": null,
   "metadata": {
    "collapsed": false
   },
   "outputs": [],
   "source": [
    "# initial data\n",
    "a = [2, 3, 4, 5]\n",
    "b = []\n",
    "# list of squares\n",
    "for x in a:\n",
    "    b.append(x * x)\n",
    "# combine lists\n",
    "r = []\n",
    "for x in a:\n",
    "    for y in b:\n",
    "        if x * y % 2:\n",
    "            r.append(x * y)\n",
    "# result\n",
    "print(r)"
   ]
  },
  {
   "cell_type": "markdown",
   "metadata": {},
   "source": [
    "### mixed approach"
   ]
  },
  {
   "cell_type": "code",
   "execution_count": null,
   "metadata": {
    "collapsed": false
   },
   "outputs": [],
   "source": [
    "# initial data\n",
    "a = [2, 3, 4, 5]\n",
    "# list of squares\n",
    "b = map(lambda x: x * x, a)\n",
    "# combine: matrix\n",
    "matrix = map(lambda y: map(lambda x: x * y, b), a)\n",
    "# reduce matrix to a single list\n",
    "reduced = reduce(lambda x, y: x + y , matrix)\n",
    "# take only odd products\n",
    "filter(lambda x: x % 2, reduced)"
   ]
  },
  {
   "cell_type": "markdown",
   "metadata": {},
   "source": [
    "### functional approach"
   ]
  },
  {
   "cell_type": "code",
   "execution_count": null,
   "metadata": {
    "collapsed": false
   },
   "outputs": [],
   "source": [
    "# initial data\n",
    "a = [2, 3, 4, 5]\n",
    "\n",
    "# the same as above, but without variables assignment\n",
    "filter(lambda x: x % 2,\n",
    "       reduce(lambda x, y: x + y ,\n",
    "              map(lambda y: map(lambda x: x * y,\n",
    "                                map(lambda x: x * x, a)), a)))"
   ]
  },
  {
   "cell_type": "markdown",
   "metadata": {},
   "source": [
    "## list comprehensions\n",
    "\n",
    "In general, a list comprehension in Python is a way to produce a list from iterable:\n",
    "\n",
    "    [statement for var in iterable if condition]\n",
    "\n",
    "E.g.:"
   ]
  },
  {
   "cell_type": "code",
   "execution_count": null,
   "metadata": {
    "collapsed": false
   },
   "outputs": [],
   "source": [
    "[ x for x in [2, 3, 4, 5] if x >= 4 ]"
   ]
  },
  {
   "cell_type": "markdown",
   "metadata": {},
   "source": [
    "Perform the same task as for map/reduce, but with list comprehensions:"
   ]
  },
  {
   "cell_type": "code",
   "execution_count": null,
   "metadata": {
    "collapsed": false
   },
   "outputs": [],
   "source": [
    "# initial data\n",
    "a = [2, 3, 4, 5]\n",
    "# list of squares as a list comprehension\n",
    "b = [x * x for x in a]\n",
    "# matrix as a list comprehension\n",
    "matrix = [[x * y for y in a] for x in b]\n",
    "# reduce matrix\n",
    "reduced = reduce(lambda x, y: x + y, matrix)\n",
    "# filter odd products\n",
    "[x for x in reduced if x % 2]"
   ]
  },
  {
   "cell_type": "code",
   "execution_count": null,
   "metadata": {
    "collapsed": false
   },
   "outputs": [],
   "source": [
    "# initial data\n",
    "a = [2, 3, 4, 5]\n",
    "# the same without variables assignment\n",
    "[x for x in reduce(lambda x, y: x + y, [[x * y for y in a] for x in [x * x for x in a]]) if x % 2]"
   ]
  },
  {
   "cell_type": "markdown",
   "metadata": {},
   "source": [
    "## generators (again)\n",
    "\n",
    "Syntax for generators can be almost the same as for list comprehensions:\n",
    "\n",
    "    (statement for var in list if condition)\n",
    "\n",
    "The important difference is that generators provide lazy evaluation:"
   ]
  },
  {
   "cell_type": "code",
   "execution_count": null,
   "metadata": {
    "collapsed": false
   },
   "outputs": [],
   "source": [
    "from __future__ import print_function\n",
    "\n",
    "a = [2, 3, 4, 5]\n",
    "\n",
    "lc = [x for x in a]\n",
    "lg = (x for x in a)\n",
    "\n",
    "a.extend([6,7,8,9])\n",
    "\n",
    "print(\"List comprehension result: \", end=\"\")\n",
    "for i in lc:\n",
    "    print(\"%i \" % i, end=\"\")\n",
    "print(\"\\n\")\n",
    "\n",
    "print(\"Generator result: \", end=\"\")\n",
    "for i in lg:\n",
    "    print(\"%i \" % i, end=\"\")\n",
    "print(\"\\n\")"
   ]
  },
  {
   "cell_type": "markdown",
   "metadata": {},
   "source": [
    "## flow control statements\n",
    "\n",
    "### imperative approach"
   ]
  },
  {
   "cell_type": "code",
   "execution_count": null,
   "metadata": {
    "collapsed": true
   },
   "outputs": [],
   "source": [
    "def test(a, b):\n",
    "    if a < b:\n",
    "        return \"a\"\n",
    "    else:\n",
    "        return \"b\"\n",
    "\n",
    "test(5, 6)"
   ]
  },
  {
   "cell_type": "markdown",
   "metadata": {},
   "source": [
    "### functional approach"
   ]
  },
  {
   "cell_type": "code",
   "execution_count": null,
   "metadata": {
    "collapsed": false
   },
   "outputs": [],
   "source": [
    "test = lambda a, b: \"a\" if a < b else \"b\"\n",
    "\n",
    "test(5, 6)"
   ]
  },
  {
   "cell_type": "markdown",
   "metadata": {},
   "source": [
    "## functional loops\n",
    "\n",
    "(not really)"
   ]
  },
  {
   "cell_type": "code",
   "execution_count": null,
   "metadata": {
    "collapsed": false
   },
   "outputs": [],
   "source": [
    "echo = lambda: raw_input(\" >> \") == \"quit\" or echo()\n",
    "echo()"
   ]
  },
  {
   "cell_type": "markdown",
   "metadata": {},
   "source": [
    "**achtung**: Python has **no** tail recursion.\n",
    "    * what's tail recursion\n",
    "    * how the recursion works in Python\n",
    "    * pros/contras\n",
    "    * sys.setrecursionlimit()"
   ]
  }
 ],
 "metadata": {
  "kernelspec": {
   "display_name": "Python 2",
   "language": "python",
   "name": "python2"
  },
  "language_info": {
   "codemirror_mode": {
    "name": "ipython",
    "version": 2
   },
   "file_extension": ".py",
   "mimetype": "text/x-python",
   "name": "python",
   "nbconvert_exporter": "python",
   "pygments_lexer": "ipython2",
   "version": "2.7.11"
  }
 },
 "nbformat": 4,
 "nbformat_minor": 0
}
